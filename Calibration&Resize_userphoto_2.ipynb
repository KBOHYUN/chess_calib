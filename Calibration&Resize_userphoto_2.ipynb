{
 "cells": [
  {
   "cell_type": "code",
   "execution_count": 31,
   "metadata": {},
   "outputs": [],
   "source": [
    "import numpy as np\n",
    "\n",
    "import cv2\n",
    "\n",
    "import glob\n",
    "import sys"
   ]
  },
  {
   "cell_type": "code",
   "execution_count": 32,
   "metadata": {},
   "outputs": [],
   "source": [
    "from PIL import Image\n",
    "img=Image.open(\"./calibration_user/testfile.jpg\")\n",
    "img=img.resize((540,720))\n",
    "(img_h,img_w)=img.size\n",
    "\n",
    "unit=img_w/5\n",
    "\n",
    "x=0\n",
    "y=0\n",
    "y_unit=unit\n",
    "for i in range(1,6):\n",
    "    grid=(x,y,img_h,y_unit)\n",
    "    cropped_img=img.crop(grid)\n",
    "    img_n=('./calibration_user/testfile_crop'+str(i)+'.jpg')\n",
    "    cropped_img.save(img_n)\n",
    "    y+=unit\n",
    "    y_unit+=unit"
   ]
  },
  {
   "cell_type": "code",
   "execution_count": 33,
   "metadata": {},
   "outputs": [
    {
     "data": {
      "text/plain": [
       "True"
      ]
     },
     "execution_count": 33,
     "metadata": {},
     "output_type": "execute_result"
    }
   ],
   "source": [
    "#각 파트별로 크기 재조절하고 합치기\n",
    "import cv2\n",
    "import numpy as np\n",
    "\n",
    "K=np.load(\"./calibration_chess/result/savemtx.npy\") #저장되어 있는 mtx 파일 불러오기\n",
    "n=K[1][1]/720\n",
    "d=(n+1)/2\n",
    "\n",
    "#사진 크기 조절\n",
    "img=cv2.imread(\"./calibration_user/testfile_crop1.jpg\")\n",
    "img1=cv2.resize(img, None,None,1,n,interpolation=cv2.INTER_AREA)\n",
    "\n",
    "img=cv2.imread(\"./calibration_user/testfile_crop2.jpg\")\n",
    "img2=cv2.resize(img, None,None,1,d,interpolation=cv2.INTER_AREA)\n",
    "\n",
    "img=cv2.imread(\"./calibration_user/testfile_crop3.jpg\")\n",
    "img3=cv2.resize(img, None,None,1,1,interpolation=cv2.INTER_AREA)\n",
    "\n",
    "img=cv2.imread(\"./calibration_user/testfile_crop4.jpg\")\n",
    "img4=cv2.resize(img, None,None,1,d,interpolation=cv2.INTER_AREA)\n",
    "\n",
    "img=cv2.imread(\"./calibration_user/testfile_crop5.jpg\")\n",
    "img5=cv2.resize(img, None,None,1,n,interpolation=cv2.INTER_AREA)\n",
    "\n",
    "#사진 붙이기\n",
    "addv=np.vstack((img1,img2))\n",
    "addv=np.vstack((addv,img3))\n",
    "addv=np.vstack((addv,img4))\n",
    "addv=np.vstack((addv,img5))\n",
    "\n",
    "addv=cv2.resize(addv, (540,720))\n",
    "cv2.imwrite('./calibration_user/crop_result.jpg', addv)"
   ]
  },
  {
   "cell_type": "code",
   "execution_count": 34,
   "metadata": {},
   "outputs": [
    {
     "data": {
      "text/plain": [
       "-1"
      ]
     },
     "execution_count": 34,
     "metadata": {},
     "output_type": "execute_result"
    }
   ],
   "source": [
    "#앞에서 구한 내부 파라미터들을 사용하여 보정\n",
    "#dist=[]\n",
    "#mtx: 카메라 행렬 저장-fx,fy,cx,cy\n",
    "#K=mtx \n",
    "\n",
    "K=np.load(\"./calibration_chess/result/savemtx.npy\") #저장되어 있는 mtx 파일 불러오기\n",
    "dist=np.load(\"./calibration_chess/result/savedist.npy\")#저장되어 있는 dist 파일 불러오기\n",
    "\n",
    "image=cv2.imread('./calibration_user/crop_result.jpg') #보정할 사진파일\n",
    "images=glob.glob('./calibration_user/crop_result.jpg') #보정할 사진파일\n",
    "\n",
    "for fname in images:\n",
    "    img=cv2.imread(fname)\n",
    "    h,w=img.shape[:2]\n",
    "       \n",
    "     #undistort\n",
    "    newcamera, roi = cv2.getOptimalNewCameraMatrix(K, dist, (w,h), 0)\n",
    "    newimg = cv2.undistort(img, K, dist, None, newcamera)\n",
    "    \n",
    "    # save image\n",
    "    newfname = fname+'_undis.png'\n",
    "    #cv2.imwrite('./calibration_test/CalibResult/undis_result.jpg', newimg)\n",
    "    cv2.imwrite(newfname, newimg)\n",
    "    \n",
    "cv2.waitKey()"
   ]
  },
  {
   "cell_type": "code",
   "execution_count": null,
   "metadata": {},
   "outputs": [],
   "source": []
  }
 ],
 "metadata": {
  "kernelspec": {
   "display_name": "Python 3",
   "language": "python",
   "name": "python3"
  },
  "language_info": {
   "codemirror_mode": {
    "name": "ipython",
    "version": 3
   },
   "file_extension": ".py",
   "mimetype": "text/x-python",
   "name": "python",
   "nbconvert_exporter": "python",
   "pygments_lexer": "ipython3",
   "version": "3.8.3"
  }
 },
 "nbformat": 4,
 "nbformat_minor": 4
}
